{
 "cells": [
  {
   "cell_type": "code",
   "execution_count": 15,
   "id": "43713f4e-0ddd-4fe8-a036-9e09b2ef59c7",
   "metadata": {},
   "outputs": [],
   "source": [
    "import h5py\n",
    "import numpy as onp\n",
    "from itertools import starmap\n",
    "from jax import numpy as jnp\n",
    "import jax"
   ]
  },
  {
   "cell_type": "code",
   "execution_count": 27,
   "id": "f3603809-97bd-4056-b678-3dff4d7e40b1",
   "metadata": {},
   "outputs": [
    {
     "name": "stdout",
     "output_type": "stream",
     "text": [
      "[0.94621754 0.4579146  0.74511296 0.92403305 0.8768172  0.40708116\n",
      " 0.4978676  0.77904266 0.6293515  0.80934733]\n"
     ]
    }
   ],
   "source": [
    "with h5py.File('test.h5', 'w', libver='latest') as f:\n",
    "    d = f.create_dataset(\"detpth_clouds\", (10,), maxshape=(None,), dtype=\"f4\")\n",
    "    d[:10] = onp.random.random((10,)).astype(onp.float32)\n",
    "    \n",
    "with h5py.File('test.h5', 'r', libver='latest') as g:\n",
    "    print(g['detpth_clouds'][:])"
   ]
  },
  {
   "cell_type": "code",
   "execution_count": 17,
   "id": "66a5553f-70d0-4ad8-92f1-bfd5979ce40e",
   "metadata": {},
   "outputs": [],
   "source": [
    "def load_databases(f):\n",
    "    return map(lambda x: f[x], ['masks', 'rgb_clouds', 'depth_clouds', 'labels'])"
   ]
  },
  {
   "cell_type": "code",
   "execution_count": 24,
   "id": "0be51f35-f646-433c-971f-1212c4b32ce9",
   "metadata": {},
   "outputs": [],
   "source": [
    "MAX_SIZE = 2000\n",
    "def create_datasets(h5py_file):\n",
    "    f = h5py_file\n",
    "    masks = f.create_dataset(\n",
    "        \"masks\",\n",
    "        (10**1, MAX_SIZE),\n",
    "        maxshape=(None, MAX_SIZE),\n",
    "        dtype=\"i1\",\n",
    "        chunks=(10**2, MAX_SIZE),\n",
    "    )\n",
    "    rgb_clouds = f.create_dataset(\n",
    "        \"rgb_clouds\",\n",
    "        (10**1, 3, MAX_SIZE),\n",
    "        maxshape=(None, 3, MAX_SIZE),\n",
    "        dtype=\"i1\",\n",
    "        chunks=(10**2, 3, MAX_SIZE),\n",
    "    )\n",
    "    depth_clouds = f.create_dataset(\n",
    "        \"depth_clouds\",\n",
    "        (10**1, 3, MAX_SIZE),\n",
    "        maxshape=(None, 3, MAX_SIZE),\n",
    "        dtype=\"i4\",\n",
    "        chunks=(10**2, 3, MAX_SIZE),\n",
    "    )\n",
    "    labels = f.create_dataset(\n",
    "        \"labels\", (10**1,), maxshape=(None,), dtype=\"i1\", chunks=(10**2,)\n",
    "    )\n",
    "    return masks, rgb_clouds, depth_clouds, labels\n",
    "\n",
    "\n",
    "def resize_databases(num_extra):\n",
    "    list(map(\n",
    "        lambda x: x.resize(x.shape[0] + num_extra, axis=0),\n",
    "        [depth_db, rgb_db, m_db, labels_db],\n",
    "    ))\n",
    "\n",
    "\n",
    "def save_data(depth, rgb, mask, label, save_i):\n",
    "    if save_i >= depth_db.shape[0]:\n",
    "        resize_databases(num_extra=20)\n",
    "\n",
    "    list(starmap(\n",
    "        lambda db, val: db.__setitem__(save_i, val),\n",
    "        zip([depth_db, rgb_db, m_db, labels_db], [depth, rgb, mask, label]),\n",
    "    ))\n",
    "\n",
    "    save_i += 1\n",
    "    return save_i"
   ]
  },
  {
   "cell_type": "code",
   "execution_count": 18,
   "id": "38d93cf9-e2aa-42bc-866a-2a99ff07e9e8",
   "metadata": {},
   "outputs": [],
   "source": [
    "all_m, all_r, all_d, all_l = list(),list(),list(),list()\n",
    "for i in range(40):\n",
    "    with h5py.File(f'dist_data/soccer_balls_data_{i}.h5', 'r', libver='latest',swmr=True) as f:\n",
    "        m_db, rgb_db, depth_db, labels_db = load_databases(f)\n",
    "        for db_i,l_i in zip([m_db, rgb_db, depth_db, labels_db],\n",
    "                            [all_m, all_r, all_d, all_l]):\n",
    "            db_i.id.refresh()\n",
    "\n",
    "            l_i.append(db_i[:])\n",
    "masks, rgbs, depth, labels = [onp.concatenate(l_i) for l_i in [all_m, all_r, all_d, all_l]]"
   ]
  },
  {
   "cell_type": "code",
   "execution_count": 22,
   "id": "22cc330a-e108-4d60-b75e-6d5d9d3e296c",
   "metadata": {},
   "outputs": [
    {
     "data": {
      "text/plain": [
       "(1869840, 2000)"
      ]
     },
     "execution_count": 22,
     "metadata": {},
     "output_type": "execute_result"
    }
   ],
   "source": [
    "masks.shape"
   ]
  },
  {
   "cell_type": "code",
   "execution_count": 21,
   "id": "028b5005-6da9-4868-ba9a-0fa2312b9350",
   "metadata": {},
   "outputs": [
    {
     "name": "stdout",
     "output_type": "stream",
     "text": [
      "(1869840,) [ True  True  True ... False False False] 1824984\n"
     ]
    }
   ],
   "source": [
    "# m_db, rgb_db, depth_db, labels_db  = list(map(lambda x: onp.concatenate(x), [all_m, all_r, all_d, all_l]))\n",
    "idx = masks[:,0] > 0\n",
    "print(idx.shape, idx, idx.sum())\n",
    "m_, rgb_, depth_, labels_ = [x[idx] for x in [masks, rgbs, depth, labels]]"
   ]
  },
  {
   "cell_type": "code",
   "execution_count": 25,
   "id": "b9567f8c-a64d-4dff-8c0d-54d242c33739",
   "metadata": {},
   "outputs": [],
   "source": [
    "with h5py.File('./soccer_balls_data_final_2.h5', 'w') as f:\n",
    "    m_db, rgb_db, depth_db, labels_db = create_datasets(f)\n",
    "    resize_databases(m_.shape[0] - m_db.shape[0])\n",
    "    for db, a in zip([m_db, rgb_db, depth_db, labels_db],[m_, rgb_, depth_, labels_]):\n",
    "        db[:] = a"
   ]
  },
  {
   "cell_type": "code",
   "execution_count": 6,
   "id": "0f0d71b3-9287-4243-8388-3bc486901cee",
   "metadata": {},
   "outputs": [
    {
     "data": {
      "text/plain": [
       "(DeviceArray(0.5, dtype=float32),\n",
       " DeviceArray([False, False,  True,  True], dtype=bool),\n",
       " DeviceArray([0.91102946, 0.00737166, 0.28678894, 0.8808267 ], dtype=float32))"
      ]
     },
     "execution_count": 6,
     "metadata": {},
     "output_type": "execute_result"
    }
   ],
   "source": [
    "from train_transformer import binary_auc\n",
    "import jax\n",
    "y_hat = jax.random.uniform(jax.random.PRNGKey(10),(4,))\n",
    "y_labels = jax.random.uniform(jax.random.PRNGKey(1224),(4,))>0.7\n",
    "\n",
    "auc = binary_auc(y_hat,y_labels[:,None])\n",
    "# pos = y_hat[y_labels == 1]\n",
    "# neg = y_hat[y_labels == 0]\n",
    "# print(pos,neg)\n",
    "# s = 0\n",
    "# for p in pos:\n",
    "#     for n in neg:\n",
    "#         s+= p>n\n",
    "# s/(y_labels.sum() * (1-y_labels).sum()), \n",
    "auc, y_labels, y_hat\n"
   ]
  },
  {
   "cell_type": "code",
   "execution_count": 100,
   "id": "79316851-f1e6-4b0e-814f-82b7b67fae26",
   "metadata": {},
   "outputs": [
    {
     "data": {
      "text/plain": [
       "(TransformerConfig(num_heads=4, num_enc_layers=1, num_dec_layers=1, dropout_rate=0.1, deterministic=True, d_model=40, add_positional_encoding=False, max_len=2000, obs_emb_hidden_sizes=(100,), num_latents=1),\n",
       " TransformerConfig(num_heads=4, num_enc_layers=1, num_dec_layers=1, dropout_rate=0.1, deterministic=False, d_model=40, add_positional_encoding=False, max_len=2000, obs_emb_hidden_sizes=(100,), num_latents=1))"
      ]
     },
     "execution_count": 100,
     "metadata": {},
     "output_type": "execute_result"
    }
   ],
   "source": [
    "from dataclasses import replace\n",
    "cfg = TransformerConfig()\n",
    "d = {**cfg.__dict__}.update({'deterministic': True})\n",
    "d = replace(cfg,**{\"deterministic\":True})\n",
    "d, cfg"
   ]
  },
  {
   "cell_type": "code",
   "execution_count": 42,
   "id": "d41308d3-656e-4be8-a6f8-758b2124d862",
   "metadata": {},
   "outputs": [],
   "source": [
    "lines = text.splitlines()\n",
    "num_steps_idx = [i for i in range(len(lines)) if 'num_steps' in lines[i]]\n",
    "num_steps_lines = [lines[i] for i in num_steps_idx]\n",
    "centroid_lines = [lines[i+1] for i in num_steps_idx]\n",
    "all_num_steps = [float(l.replace(\"num_steps \", '')) for l in num_steps_lines]\n",
    "all_centroids = [float(l.replace(\"centroid \", '')) for l in centroid_lines]"
   ]
  },
  {
   "cell_type": "code",
   "execution_count": 28,
   "id": "38842289-9e75-4b5b-9de7-545be7b9de75",
   "metadata": {},
   "outputs": [
    {
     "name": "stdout",
     "output_type": "stream",
     "text": [
      "1 2\n",
      "2 38\n",
      "3 54\n",
      "4 95\n",
      "5 91\n",
      "6 44\n",
      "7 2\n",
      "8 0\n",
      "9 0\n",
      "10 1\n"
     ]
    }
   ],
   "source": [
    "for i in range(1,int(max(all_num_steps))+1):\n",
    "    num_els = len([ns for ns in all_num_steps if int(ns) == i])\n",
    "    print(i,num_els)"
   ]
  },
  {
   "cell_type": "code",
   "execution_count": 68,
   "id": "c2e29393-d6ea-417d-ab7a-4591aadc23e6",
   "metadata": {},
   "outputs": [
    {
     "data": {
      "text/plain": [
       "<AxesSubplot:ylabel='Frequency'>"
      ]
     },
     "execution_count": 68,
     "metadata": {},
     "output_type": "execute_result"
    },
    {
     "data": {
      "image/png": "[encoded data removed]",
      "text/plain": [
       "<Figure size 640x480 with 1 Axes>"
      ]
     },
     "metadata": {},
     "output_type": "display_data"
    }
   ],
   "source": [
    "from matplotlib import pyplot as plt\n",
    "import seaborn as sns\n",
    "import pandas as pd\n",
    "# plt.figure()\n",
    "data = pd.DataFrame(dict(centroids = all_centroids, num_steps = all_num_steps))\n",
    "# data = data.loc[(data.num_steps <= 8) & (data.num_steps > 1)]\n",
    "# data = data.pivot(columns='num_steps', values='centroids')\n",
    "data.num_steps.plot.hist()\n",
    "# for i in range(1,7):\n",
    "#     # _, ax = plt.subplots()\n",
    "#     df = data.loc[(data.num_steps == i)]\n",
    "#     # df.centroids.plot.density(ax=ax)\n",
    "#     df.centroids.plot.density()\n",
    "# plt.show()\n",
    "# data.centroids.plot.density()\n",
    "# data.centroids.min(),data.centroids.max()\n",
    "# plt.scatter(all_num_steps, all_centroids)\n",
    "# sns.kdeplot(x=all_centroids, fill=True, common_norm=False, alpha=0.4)"
   ]
  }
 ],
 "metadata": {
  "kernelspec": {
   "display_name": "Python 3 (ipykernel)",
   "language": "python",
   "name": "python3"
  },
  "language_info": {
   "codemirror_mode": {
    "name": "ipython",
    "version": 3
   },
   "file_extension": ".py",
   "mimetype": "text/x-python",
   "name": "python",
   "nbconvert_exporter": "python",
   "pygments_lexer": "ipython3",
   "version": "3.8.13"
  }
 },
 "nbformat": 4,
 "nbformat_minor": 5
}
