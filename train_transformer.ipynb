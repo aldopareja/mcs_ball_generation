{
 "cells": [
  {
   "cell_type": "code",
   "execution_count": null,
   "id": "b6028aae-2b2f-425c-948d-5acfd9b4f023",
   "metadata": {},
   "outputs": [],
   "source": [
    "from flax_transformer import TransformerConfig, TransformerStack"
   ]
  }
 ],
 "metadata": {
  "kernelspec": {
   "display_name": "Python 3 (ipykernel)",
   "language": "python",
   "name": "python3"
  },
  "language_info": {
   "codemirror_mode": {
    "name": "ipython",
    "version": 3
   },
   "file_extension": ".py",
   "mimetype": "text/x-python",
   "name": "python",
   "nbconvert_exporter": "python",
   "pygments_lexer": "ipython3",
   "version": "3.8.13"
  }
 },
 "nbformat": 4,
 "nbformat_minor": 5
}
