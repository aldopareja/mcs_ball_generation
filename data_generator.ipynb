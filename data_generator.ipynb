{
 "cells": [
  {
   "cell_type": "code",
   "execution_count": 1,
   "id": "67e5770d-87f7-45b0-bcb9-050397025e2a",
   "metadata": {},
   "outputs": [],
   "source": [
    "%load_ext autoreload\n",
    "%autoreload 2\n",
    "import machine_common_sense as mcs\n",
    "from jax import numpy as jnp\n",
    "import jax\n",
    "from PIL import Image\n",
    "import numpy as np\n",
    "from matplotlib import pyplot as plt"
   ]
  },
  {
   "cell_type": "code",
   "execution_count": 9,
   "id": "65e57f11-cd7f-4e66-87c4-462b3e245e63",
   "metadata": {},
   "outputs": [],
   "source": [
    "controller = mcs.create_controller(\"sample_config.ini\")"
   ]
  },
  {
   "cell_type": "code",
   "execution_count": 119,
   "id": "0937ed30-e951-4e57-badf-c23dd60d30d2",
   "metadata": {},
   "outputs": [],
   "source": []
  },
  {
   "cell_type": "code",
   "execution_count": 20,
   "id": "dbe2f678-0e7c-4370-aaaa-4d649bd67fef",
   "metadata": {},
   "outputs": [
    {
     "data": {
      "text/plain": [
       "{'goal': {'metadata': {'target': {'id': 'bd57f0dc-ceef-4904-9e1b-f03563543c2f'}},\n",
       "  'category': 'retrieval',\n",
       "  'description': 'Find and pick up the small light black white rubber ball.'},\n",
       " 'holes': [],\n",
       " 'isometric': False,\n",
       " 'lava': [],\n",
       " 'name': '_000006',\n",
       " 'objects': [{'id': 'bd57f0dc-ceef-4904-9e1b-f03563543c2f',\n",
       "   'type': 'soccer_ball',\n",
       "   'mass': 1.8768,\n",
       "   'salientMaterials': ['rubber'],\n",
       "   'moveable': True,\n",
       "   'pickupable': True,\n",
       "   'shows': [{'position': {'x': -2.2328, 'y': 0.2064, 'z': -3.056},\n",
       "     'rotation': {'x': 0.0, 'y': 45.0, 'z': 0.0},\n",
       "     'stepBegin': 0,\n",
       "     'scale': {'x': 1.8768, 'y': 1.8768, 'z': 1.8768}}],\n",
       "   'materials': []},\n",
       "  {'id': 'a893202e-3625-42e0-ad9a-161be266afd3',\n",
       "   'type': 'chair_6',\n",
       "   'mass': 8.0,\n",
       "   'salientMaterials': ['wood'],\n",
       "   'moveable': True,\n",
       "   'receptacle': True,\n",
       "   'shows': [{'position': {'x': -2.7513, 'y': 0, 'z': -2.2446},\n",
       "     'rotation': {'x': 0.0, 'y': 507.4213, 'z': 0.0},\n",
       "     'stepBegin': 0,\n",
       "     'scale': {'x': 1.0, 'y': 1.0, 'z': 1.0}}],\n",
       "   'materials': ['Custom/Materials/AzureWoodMCS',\n",
       "    'Custom/Materials/AzureWoodMCS']},\n",
       "  {'id': '87abf4dd-97c1-47da-b61f-e73a4e2d5ba2',\n",
       "   'type': 'desk_2',\n",
       "   'mass': 35.0,\n",
       "   'salientMaterials': ['wood'],\n",
       "   'moveable': True,\n",
       "   'receptacle': True,\n",
       "   'shows': [{'rotation': {'x': 0.0, 'y': 180.0, 'z': 0.0},\n",
       "     'position': {'x': 0.15, 'y': 0.0, 'z': 0.47},\n",
       "     'stepBegin': 0,\n",
       "     'scale': {'x': 1.5, 'y': 1.0, 'z': 1.0}}],\n",
       "   'materials': ['AI2-THOR/Materials/Wood/TexturesCom_WoodFine0050_1_seamless_S']},\n",
       "  {'id': '0b0fea7e-a631-45be-a0be-d3ea61d8aa65',\n",
       "   'type': 'sofa_1',\n",
       "   'mass': 45.0,\n",
       "   'salientMaterials': ['fabric'],\n",
       "   'receptacle': True,\n",
       "   'shows': [{'rotation': {'x': 0.0, 'y': 0.0, 'z': 0.0},\n",
       "     'position': {'x': 1.09, 'y': 0, 'z': 8.46},\n",
       "     'stepBegin': 0,\n",
       "     'scale': {'x': 1.0, 'y': 1.0, 'z': 1.0}}],\n",
       "   'materials': ['AI2-THOR/Materials/Fabrics/Sofa1_Blue']},\n",
       "  {'id': '9e3ee0f6-5a29-4b0a-be48-7767146033ea',\n",
       "   'type': 'table_26',\n",
       "   'mass': 35.0,\n",
       "   'salientMaterials': ['wood'],\n",
       "   'moveable': True,\n",
       "   'receptacle': True,\n",
       "   'shows': [{'rotation': {'x': 0.0, 'y': 90.0, 'z': 0.0},\n",
       "     'position': {'x': 1.59, 'y': 0.0, 'z': -4.74},\n",
       "     'stepBegin': 0,\n",
       "     'scale': {'x': 1.25, 'y': 1.0, 'z': 1.25}}],\n",
       "   'materials': ['AI2-THOR/Materials/Wood/BedroomFloor1']},\n",
       "  {'id': '05b7a37d-f81a-446a-91a3-17e520992270',\n",
       "   'type': 'table_5',\n",
       "   'mass': 17.3361,\n",
       "   'salientMaterials': ['metal'],\n",
       "   'moveable': True,\n",
       "   'receptacle': True,\n",
       "   'shows': [{'rotation': {'x': 0.0, 'y': 135.0, 'z': 0.0},\n",
       "     'position': {'x': 0.71, 'y': 0.0, 'z': -9.52},\n",
       "     'stepBegin': 0,\n",
       "     'scale': {'x': 0.5, 'y': 1.0, 'z': 0.667}}],\n",
       "   'materials': ['AI2-THOR/Materials/Metals/HammeredMetal_AlbedoTransparency 1',\n",
       "    'AI2-THOR/Materials/Metals/HammeredMetal_AlbedoTransparency 1']}],\n",
       " 'screenshot': False,\n",
       " 'version': 2,\n",
       " 'ceilingMaterial': 'AI2-THOR/Materials/Walls/Drywall4Tiled',\n",
       " 'floorMaterial': 'AI2-THOR/Materials/Fabrics/Carpet8',\n",
       " 'floorTextures': [],\n",
       " 'intuitivePhysics': False,\n",
       " 'performerStart': {'position': {'x': -4.3964, 'y': 0.0, 'z': 0.3299},\n",
       "  'rotation': {'x': 10, 'y': 150, 'z': 0.0}},\n",
       " 'restrictOpenDoors': False,\n",
       " 'roomDimensions': {'x': 11.0, 'y': 8.0, 'z': 26.0},\n",
       " 'roomMaterials': {'back': 'AI2-THOR/Materials/Metals/BlackSmoothMeta',\n",
       "  'front': 'AI2-THOR/Materials/Metals/BlackSmoothMeta',\n",
       "  'left': 'AI2-THOR/Materials/Metals/BlackSmoothMeta',\n",
       "  'right': 'AI2-THOR/Materials/Metals/BlackSmoothMeta'}}"
      ]
     },
     "execution_count": 20,
     "metadata": {},
     "output_type": "execute_result"
    }
   ],
   "source": [
    "scene_data = mcs.load_scene_json_file(f'./ball_scenes/_{i+1:06}.json')\n",
    "ball_id = scene_data['goal']['metadata']['target']['id']\n",
    "scene_data"
   ]
  },
  {
   "cell_type": "code",
   "execution_count": 5,
   "id": "52a1763d-2adc-4a60-898d-9d0666eb2424",
   "metadata": {},
   "outputs": [],
   "source": [
    "output = controller.start_scene(scene_data)"
   ]
  },
  {
   "cell_type": "code",
   "execution_count": 6,
   "id": "c918a204-bad7-4c1b-bc5d-f3886ffd401c",
   "metadata": {},
   "outputs": [],
   "source": [
    "s = controller.step('RotateRight')"
   ]
  },
  {
   "cell_type": "code",
   "execution_count": 30,
   "id": "ad62236a-a88b-452b-a1ae-aed9f51a5cf9",
   "metadata": {},
   "outputs": [],
   "source": [
    "b = [o for o in s.segmentation_colors if o['objectId']==ball_id][0]\n",
    "ball_color = jnp.array((b['r'],b['g'],b['b']), dtype=jnp.uint8)\n",
    "ball_mask_rgb = ball_color\n",
    "mask = jnp.asarray(s.object_mask_list[-1])"
   ]
  },
  {
   "cell_type": "code",
   "execution_count": 6,
   "id": "42eb7ed0-f244-41fe-ae27-7b06baf5a685",
   "metadata": {},
   "outputs": [
    {
     "ename": "NameError",
     "evalue": "name 'mask' is not defined",
     "output_type": "error",
     "traceback": [
      "\u001b[0;31m---------------------------------------------------------------------------\u001b[0m",
      "\u001b[0;31mNameError\u001b[0m                                 Traceback (most recent call last)",
      "Cell \u001b[0;32mIn [6], line 52\u001b[0m\n\u001b[1;32m     49\u001b[0m     _,idxs \u001b[38;5;241m=\u001b[39m jnp\u001b[38;5;241m.\u001b[39munique(obj_depths, axis\u001b[38;5;241m=\u001b[39m\u001b[38;5;241m1\u001b[39m, return_index\u001b[38;5;241m=\u001b[39m\u001b[38;5;28;01mTrue\u001b[39;00m)\n\u001b[1;32m     50\u001b[0m     \u001b[38;5;28;01mreturn\u001b[39;00m obj_depths[:,idxs], rgb_cloud[:,idxs], all_masks[idxs]\n\u001b[0;32m---> 52\u001b[0m d, r, i \u001b[38;5;241m=\u001b[39m jax\u001b[38;5;241m.\u001b[39mjit(make_rgb_point_cloud_ball)(ball_color, \u001b[43mmask\u001b[49m, jnp\u001b[38;5;241m.\u001b[39masarray(s\u001b[38;5;241m.\u001b[39mimage_list[\u001b[38;5;241m-\u001b[39m\u001b[38;5;241m1\u001b[39m]), jnp\u001b[38;5;241m.\u001b[39masarray(s\u001b[38;5;241m.\u001b[39mdepth_map_list[\u001b[38;5;241m-\u001b[39m\u001b[38;5;241m1\u001b[39m]), jnp\u001b[38;5;241m.\u001b[39marray(s\u001b[38;5;241m.\u001b[39mcamera_aspect_ratio), s\u001b[38;5;241m.\u001b[39mcamera_field_of_view)\n\u001b[1;32m     53\u001b[0m ball_mask \u001b[38;5;241m=\u001b[39m jax\u001b[38;5;241m.\u001b[39mvmap(jax\u001b[38;5;241m.\u001b[39mvmap(compare_pixels, in_axes\u001b[38;5;241m=\u001b[39m(\u001b[38;5;28;01mNone\u001b[39;00m,\u001b[38;5;241m0\u001b[39m)),in_axes\u001b[38;5;241m=\u001b[39m(\u001b[38;5;28;01mNone\u001b[39;00m,\u001b[38;5;241m0\u001b[39m))(ball_mask_rgb, mask)\n\u001b[1;32m     54\u001b[0m \u001b[38;5;66;03m# plt.imshow(s.object_mask_list[-1])\u001b[39;00m\n",
      "\u001b[0;31mNameError\u001b[0m: name 'mask' is not defined"
     ]
    }
   ],
   "source": [
    "def get_camera_intrinsics(aspect_ratio, field_of_view):\n",
    "    width, height = aspect_ratio\n",
    "    aspect_ratio = width / height\n",
    "    \n",
    "    cx, cy = width / 2.0, height / 2.0\n",
    "    \n",
    "    fov_y = jnp.deg2rad(field_of_view)\n",
    "\n",
    "    fov_x = 2 * jnp.arctan(aspect_ratio * jnp.tan(fov_y/2.0))\n",
    "    \n",
    "    fx = cx / jnp.tan(fov_x / 2.0)\n",
    "    fy = cy / jnp.tan(fov_y / 2.0)\n",
    "    \n",
    "    return cx, cy, fx, fy\n",
    "\n",
    "def depth_image_to_point_cloud(depth, cx,cy,fx,fy):\n",
    "    height, width = depth.shape\n",
    "    xs = (depth * (jnp.arange(width) - cx - 0.5).reshape(1,-1) / fx).reshape(-1)\n",
    "    ys = (depth * (jnp.arange(height) - cy - 0.5).reshape(-1,1) / fy).reshape(-1)\n",
    "    zs = depth.reshape(-1)\n",
    "    \n",
    "    point_cloud = jnp.stack([xs,ys,zs],axis=0)\n",
    "    \n",
    "    return point_cloud\n",
    "    \n",
    "def mask_rgb_to_id(mask_rgb):\n",
    "    r,g,b = mask_rgb\n",
    "    return jnp.uint32(r+1) + jnp.uint32(g+1) * 256 + jnp.uint32(b+1)*256**2\n",
    "\n",
    "def get_id_from_masks(ball_color,mask_rgb):\n",
    "    return jax.lax.cond(jnp.alltrue(ball_color==mask_rgb),lambda: jnp.uint32(0), lambda: mask_rgb_to_id(mask_rgb))\n",
    "\n",
    "def make_rgb_point_cloud_ball(ball_mask_rgb:jnp.ndarray, mask:jnp.ndarray, rgb:jnp.ndarray, depth:jnp.ndarray, aspect_ratio, field_of_view):\n",
    "    \"\"\"computes a flat point cloud (3xN where N is the number of pixels) given a depth map. Also returns the ids, where the ball is always 0 and all others are\n",
    "    a random number. It also returns a corresponding RGB cloud.\n",
    "    \"\"\"\n",
    "    cx, cy, fx, fy = get_camera_intrinsics(aspect_ratio,field_of_view)\n",
    "    depth_cloud = depth_image_to_point_cloud(depth, cx, cy, fx, fy)\n",
    "    rgb_cloud = jnp.stack([rgb[:,:,i].reshape(-1) for i in range(3)],axis=0)\n",
    "    \n",
    "    ids = jax.vmap(jax.vmap(get_id_from_masks, in_axes=(None,0)),in_axes=(None,0))(ball_mask_rgb, mask).reshape(-1)\n",
    "    \n",
    "    return depth_cloud, rgb_cloud, ids\n",
    "\n",
    "def voxelize(depth_cloud, rgb_cloud, all_masks, resolution):\n",
    "    # mask = all_masks == mask_id\n",
    "    # obj_depths = jnp.round(depth_cloud[:,mask]/resolution)*resolution\n",
    "    obj_depths = jnp.round(depth_cloud/resolution)*resolution\n",
    "    _,idxs = jnp.unique(obj_depths, axis=1, return_index=True)\n",
    "    return obj_depths[:,idxs], rgb_cloud[:,idxs], all_masks[idxs]\n",
    "\n",
    "d, r, i = jax.jit(make_rgb_point_cloud_ball)(ball_color, mask, jnp.asarray(s.image_list[-1]), jnp.asarray(s.depth_map_list[-1]), jnp.array(s.camera_aspect_ratio), s.camera_field_of_view)\n",
    "ball_mask = jax.vmap(jax.vmap(compare_pixels, in_axes=(None,0)),in_axes=(None,0))(ball_mask_rgb, mask)\n",
    "# plt.imshow(s.object_mask_list[-1])\n",
    "plt.scatter(d[0],d[1],c=i,s=0.01)\n",
    "\n",
    "b_d, b_r, b_i = voxelize(d,r,i,0,0.04)\n",
    "plt.scatter(b_d[0],b_d[1],c=b_i,s=0.01)\n",
    "plt.show()"
   ]
  },
  {
   "cell_type": "code",
   "execution_count": 12,
   "id": "3e166820-b617-4d0e-b376-4a89545def93",
   "metadata": {},
   "outputs": [
    {
     "data": {
      "text/plain": [
       "DeviceArray([[-0.28371066,  0.9368162 , -1.0050073 ,  1.4165013 ,\n",
       "               1.0543301 ,  0.9108127 , -0.42656708,  0.986188  ,\n",
       "              -0.5575324 ,  0.01532502,  0.        ,  0.        ,\n",
       "               0.        ,  0.        ,  0.        ,  0.        ,\n",
       "               0.        ,  0.        ,  0.        ,  0.        ,\n",
       "               0.        ,  0.        ,  0.        ,  0.        ,\n",
       "               0.        ,  0.        ,  0.        ,  0.        ,\n",
       "               0.        ,  0.        ],\n",
       "             [-2.078568  ,  0.5548371 ,  0.91423655,  0.5744596 ,\n",
       "               0.7227863 ,  0.12106175, -0.3237354 ,  1.6234998 ,\n",
       "               0.24500391, -1.3809781 ,  0.        ,  0.        ,\n",
       "               0.        ,  0.        ,  0.        ,  0.        ,\n",
       "               0.        ,  0.        ,  0.        ,  0.        ,\n",
       "               0.        ,  0.        ,  0.        ,  0.        ,\n",
       "               0.        ,  0.        ,  0.        ,  0.        ,\n",
       "               0.        ,  0.        ],\n",
       "             [-0.6111237 ,  0.1403725 ,  0.84100425, -1.0943578 ,\n",
       "              -1.077502  , -1.1396457 , -0.593338  , -0.15576515,\n",
       "              -0.38321444, -1.1144515 ,  0.        ,  0.        ,\n",
       "               0.        ,  0.        ,  0.        ,  0.        ,\n",
       "               0.        ,  0.        ,  0.        ,  0.        ,\n",
       "               0.        ,  0.        ,  0.        ,  0.        ,\n",
       "               0.        ,  0.        ,  0.        ,  0.        ,\n",
       "               0.        ,  0.        ]], dtype=float32)"
      ]
     },
     "execution_count": 12,
     "metadata": {},
     "output_type": "execute_result"
    }
   ],
   "source": [
    "jnp.pad(jax.random.normal(jax.random.PRNGKey(0),(3,10)), ((0,0),(0,20)))"
   ]
  },
  {
   "cell_type": "code",
   "execution_count": 7,
   "id": "e9ac52de-73bc-4d5a-9ccc-e61437a9c80b",
   "metadata": {},
   "outputs": [
    {
     "name": "stdout",
     "output_type": "stream",
     "text": [
      "0\n",
      "[  190290   468818  1072459  1260821  9731507 10451661 10539806 10571035\n",
      " 11583801 12276623 14812329 14982694 16668283]\n",
      "1\n",
      "[  205713  7673572  9731507 10451661 10571035 16511481]\n",
      "2\n",
      "[  406234  1889346  3042341  5794381  7226271  8012326  8104786  8459502\n",
      " 10451661 10571035]\n",
      "3\n",
      "[       0  1400069  8012326  9434108 10451661 16668283]\n",
      "4\n",
      "[       0   409506  3166695  9731507 10329411 10451661 10571035 10876209\n",
      " 11193034 12044380 12595995 13496740 14869019]\n",
      "5\n",
      "[       0  8470400  8815809  9731507 10451661 10571035 14610262]\n",
      "6\n"
     ]
    },
    {
     "ename": "KeyboardInterrupt",
     "evalue": "",
     "output_type": "error",
     "traceback": [
      "\u001b[0;31m---------------------------------------------------------------------------\u001b[0m",
      "\u001b[0;31mKeyboardInterrupt\u001b[0m                         Traceback (most recent call last)",
      "Cell \u001b[0;32mIn [7], line 6\u001b[0m\n\u001b[1;32m      4\u001b[0m scene_data \u001b[38;5;241m=\u001b[39m mcs\u001b[38;5;241m.\u001b[39mload_scene_json_file(\u001b[38;5;124mf\u001b[39m\u001b[38;5;124m'\u001b[39m\u001b[38;5;124m./ball_scenes/_\u001b[39m\u001b[38;5;132;01m{\u001b[39;00mi\u001b[38;5;241m+\u001b[39m\u001b[38;5;241m1\u001b[39m\u001b[38;5;132;01m:\u001b[39;00m\u001b[38;5;124m06\u001b[39m\u001b[38;5;132;01m}\u001b[39;00m\u001b[38;5;124m.json\u001b[39m\u001b[38;5;124m'\u001b[39m)\n\u001b[1;32m      5\u001b[0m ball_id \u001b[38;5;241m=\u001b[39m scene_data[\u001b[38;5;124m'\u001b[39m\u001b[38;5;124mgoal\u001b[39m\u001b[38;5;124m'\u001b[39m][\u001b[38;5;124m'\u001b[39m\u001b[38;5;124mmetadata\u001b[39m\u001b[38;5;124m'\u001b[39m][\u001b[38;5;124m'\u001b[39m\u001b[38;5;124mtarget\u001b[39m\u001b[38;5;124m'\u001b[39m][\u001b[38;5;124m'\u001b[39m\u001b[38;5;124mid\u001b[39m\u001b[38;5;124m'\u001b[39m]\n\u001b[0;32m----> 6\u001b[0m s \u001b[38;5;241m=\u001b[39m \u001b[43mcontroller\u001b[49m\u001b[38;5;241;43m.\u001b[39;49m\u001b[43mstart_scene\u001b[49m\u001b[43m(\u001b[49m\u001b[43mscene_data\u001b[49m\u001b[43m)\u001b[49m\n\u001b[1;32m      7\u001b[0m b \u001b[38;5;241m=\u001b[39m [o \u001b[38;5;28;01mfor\u001b[39;00m o \u001b[38;5;129;01min\u001b[39;00m s\u001b[38;5;241m.\u001b[39msegmentation_colors \u001b[38;5;28;01mif\u001b[39;00m o[\u001b[38;5;124m'\u001b[39m\u001b[38;5;124mobjectId\u001b[39m\u001b[38;5;124m'\u001b[39m]\u001b[38;5;241m==\u001b[39mball_id][\u001b[38;5;241m0\u001b[39m]\n\u001b[1;32m      8\u001b[0m ball_color \u001b[38;5;241m=\u001b[39m jnp\u001b[38;5;241m.\u001b[39marray((b[\u001b[38;5;124m'\u001b[39m\u001b[38;5;124mr\u001b[39m\u001b[38;5;124m'\u001b[39m],b[\u001b[38;5;124m'\u001b[39m\u001b[38;5;124mg\u001b[39m\u001b[38;5;124m'\u001b[39m],b[\u001b[38;5;124m'\u001b[39m\u001b[38;5;124mb\u001b[39m\u001b[38;5;124m'\u001b[39m]), dtype\u001b[38;5;241m=\u001b[39mjnp\u001b[38;5;241m.\u001b[39muint8)\n",
      "File \u001b[0;32m~/miniconda3/envs/mcs/lib/python3.8/site-packages/typeguard/__init__.py:1033\u001b[0m, in \u001b[0;36mtypechecked.<locals>.wrapper\u001b[0;34m(*args, **kwargs)\u001b[0m\n\u001b[1;32m   1031\u001b[0m memo \u001b[38;5;241m=\u001b[39m _CallMemo(python_func, _localns, args\u001b[38;5;241m=\u001b[39margs, kwargs\u001b[38;5;241m=\u001b[39mkwargs)\n\u001b[1;32m   1032\u001b[0m check_argument_types(memo)\n\u001b[0;32m-> 1033\u001b[0m retval \u001b[38;5;241m=\u001b[39m \u001b[43mfunc\u001b[49m\u001b[43m(\u001b[49m\u001b[38;5;241;43m*\u001b[39;49m\u001b[43margs\u001b[49m\u001b[43m,\u001b[49m\u001b[43m \u001b[49m\u001b[38;5;241;43m*\u001b[39;49m\u001b[38;5;241;43m*\u001b[39;49m\u001b[43mkwargs\u001b[49m\u001b[43m)\u001b[49m\n\u001b[1;32m   1034\u001b[0m \u001b[38;5;28;01mtry\u001b[39;00m:\n\u001b[1;32m   1035\u001b[0m     check_return_type(retval, memo)\n",
      "File \u001b[0;32m~/miniconda3/envs/mcs/lib/python3.8/site-packages/machine_common_sense/controller.py:226\u001b[0m, in \u001b[0;36mController.start_scene\u001b[0;34m(self, config_data)\u001b[0m\n\u001b[1;32m    220\u001b[0m sc \u001b[38;5;241m=\u001b[39m scene_config\u001b[38;5;241m.\u001b[39mdict(exclude_none\u001b[38;5;241m=\u001b[39m\u001b[38;5;28;01mTrue\u001b[39;00m, by_alias\u001b[38;5;241m=\u001b[39m\u001b[38;5;28;01mTrue\u001b[39;00m)\n\u001b[1;32m    222\u001b[0m ai2thor_step \u001b[38;5;241m=\u001b[39m \u001b[38;5;28mself\u001b[39m\u001b[38;5;241m.\u001b[39mparameter_converter\u001b[38;5;241m.\u001b[39mwrap_step(\n\u001b[1;32m    223\u001b[0m     output_folder\u001b[38;5;241m=\u001b[39m\u001b[38;5;28mself\u001b[39m\u001b[38;5;241m.\u001b[39m__output_folder,\n\u001b[1;32m    224\u001b[0m     action\u001b[38;5;241m=\u001b[39m\u001b[38;5;124m'\u001b[39m\u001b[38;5;124mInitialize\u001b[39m\u001b[38;5;124m'\u001b[39m,\n\u001b[1;32m    225\u001b[0m     sceneConfig\u001b[38;5;241m=\u001b[39msc)\n\u001b[0;32m--> 226\u001b[0m step_output \u001b[38;5;241m=\u001b[39m \u001b[38;5;28;43mself\u001b[39;49m\u001b[38;5;241;43m.\u001b[39;49m\u001b[43m_controller\u001b[49m\u001b[38;5;241;43m.\u001b[39;49m\u001b[43mstep\u001b[49m\u001b[43m(\u001b[49m\u001b[43mai2thor_step\u001b[49m\u001b[43m)\u001b[49m\n\u001b[1;32m    228\u001b[0m \u001b[38;5;28mself\u001b[39m\u001b[38;5;241m.\u001b[39m_output_handler\u001b[38;5;241m.\u001b[39mset_scene_config(scene_config)\n\u001b[1;32m    229\u001b[0m (pre_restrict_output, output) \u001b[38;5;241m=\u001b[39m \u001b[38;5;28mself\u001b[39m\u001b[38;5;241m.\u001b[39m_output_handler\u001b[38;5;241m.\u001b[39mhandle_output(\n\u001b[1;32m    230\u001b[0m     step_output, \u001b[38;5;28mself\u001b[39m\u001b[38;5;241m.\u001b[39m_goal, \u001b[38;5;28mself\u001b[39m\u001b[38;5;241m.\u001b[39m__step_number,\n\u001b[1;32m    231\u001b[0m     \u001b[38;5;28mself\u001b[39m\u001b[38;5;241m.\u001b[39m__habituation_trial)\n",
      "File \u001b[0;32m~/miniconda3/envs/mcs/lib/python3.8/site-packages/ai2thor/controller.py:677\u001b[0m, in \u001b[0;36mController.step\u001b[0;34m(self, action, **action_args)\u001b[0m\n\u001b[1;32m    673\u001b[0m     \u001b[38;5;28;01mreturn\u001b[39;00m new_event\n\u001b[1;32m    676\u001b[0m \u001b[38;5;28mself\u001b[39m\u001b[38;5;241m.\u001b[39mserver\u001b[38;5;241m.\u001b[39msend(action)\n\u001b[0;32m--> 677\u001b[0m \u001b[38;5;28mself\u001b[39m\u001b[38;5;241m.\u001b[39mlast_event \u001b[38;5;241m=\u001b[39m \u001b[38;5;28;43mself\u001b[39;49m\u001b[38;5;241;43m.\u001b[39;49m\u001b[43mserver\u001b[49m\u001b[38;5;241;43m.\u001b[39;49m\u001b[43mreceive\u001b[49m\u001b[43m(\u001b[49m\u001b[43m)\u001b[49m\n\u001b[1;32m    679\u001b[0m \u001b[38;5;28;01mif\u001b[39;00m \u001b[38;5;129;01mnot\u001b[39;00m \u001b[38;5;28mself\u001b[39m\u001b[38;5;241m.\u001b[39mlast_event\u001b[38;5;241m.\u001b[39mmetadata[\u001b[38;5;124m'\u001b[39m\u001b[38;5;124mlastActionSuccess\u001b[39m\u001b[38;5;124m'\u001b[39m] \u001b[38;5;129;01mand\u001b[39;00m \u001b[38;5;28mself\u001b[39m\u001b[38;5;241m.\u001b[39mlast_event\u001b[38;5;241m.\u001b[39mmetadata[\u001b[38;5;124m'\u001b[39m\u001b[38;5;124merrorCode\u001b[39m\u001b[38;5;124m'\u001b[39m] \u001b[38;5;129;01min\u001b[39;00m [\u001b[38;5;124m'\u001b[39m\u001b[38;5;124mInvalidAction\u001b[39m\u001b[38;5;124m'\u001b[39m, \u001b[38;5;124m'\u001b[39m\u001b[38;5;124mMissingArguments\u001b[39m\u001b[38;5;124m'\u001b[39m, \u001b[38;5;124m'\u001b[39m\u001b[38;5;124mAmbiguousAction\u001b[39m\u001b[38;5;124m'\u001b[39m]:\n\u001b[1;32m    680\u001b[0m     \u001b[38;5;28;01mraise\u001b[39;00m \u001b[38;5;167;01mValueError\u001b[39;00m(\u001b[38;5;28mself\u001b[39m\u001b[38;5;241m.\u001b[39mlast_event\u001b[38;5;241m.\u001b[39mmetadata[\u001b[38;5;124m'\u001b[39m\u001b[38;5;124merrorMessage\u001b[39m\u001b[38;5;124m'\u001b[39m])\n",
      "File \u001b[0;32m~/miniconda3/envs/mcs/lib/python3.8/site-packages/ai2thor/fifo_server.py:144\u001b[0m, in \u001b[0;36mFifoServer.receive\u001b[0;34m(self)\u001b[0m\n\u001b[1;32m    142\u001b[0m \u001b[38;5;28;01mdef\u001b[39;00m \u001b[38;5;21mreceive\u001b[39m(\u001b[38;5;28mself\u001b[39m):\n\u001b[0;32m--> 144\u001b[0m     metadata, files \u001b[38;5;241m=\u001b[39m \u001b[38;5;28;43mself\u001b[39;49m\u001b[38;5;241;43m.\u001b[39;49m\u001b[43m_recv_message\u001b[49m\u001b[43m(\u001b[49m\u001b[43m)\u001b[49m\n\u001b[1;32m    146\u001b[0m     \u001b[38;5;28;01mif\u001b[39;00m metadata \u001b[38;5;129;01mis\u001b[39;00m \u001b[38;5;28;01mNone\u001b[39;00m:\n\u001b[1;32m    147\u001b[0m         \u001b[38;5;28;01mraise\u001b[39;00m \u001b[38;5;167;01mValueError\u001b[39;00m(\u001b[38;5;124m\"\u001b[39m\u001b[38;5;124mno metadata received from recv_message\u001b[39m\u001b[38;5;124m\"\u001b[39m)\n",
      "File \u001b[0;32m~/miniconda3/envs/mcs/lib/python3.8/site-packages/ai2thor/fifo_server.py:85\u001b[0m, in \u001b[0;36mFifoServer._recv_message\u001b[0;34m(self)\u001b[0m\n\u001b[1;32m     83\u001b[0m files \u001b[38;5;241m=\u001b[39m defaultdict(\u001b[38;5;28mlist\u001b[39m)\n\u001b[1;32m     84\u001b[0m \u001b[38;5;28;01mwhile\u001b[39;00m \u001b[38;5;28;01mTrue\u001b[39;00m:\n\u001b[0;32m---> 85\u001b[0m     header \u001b[38;5;241m=\u001b[39m \u001b[38;5;28;43mself\u001b[39;49m\u001b[38;5;241;43m.\u001b[39;49m\u001b[43mserver_pipe\u001b[49m\u001b[38;5;241;43m.\u001b[39;49m\u001b[43mread\u001b[49m\u001b[43m(\u001b[49m\u001b[38;5;28;43mself\u001b[39;49m\u001b[38;5;241;43m.\u001b[39;49m\u001b[43mheader_size\u001b[49m\u001b[43m)\u001b[49m \u001b[38;5;66;03m# message type + length\u001b[39;00m\n\u001b[1;32m     86\u001b[0m     \u001b[38;5;28;01mif\u001b[39;00m \u001b[38;5;28mlen\u001b[39m(header) \u001b[38;5;241m==\u001b[39m \u001b[38;5;241m0\u001b[39m:\n\u001b[1;32m     87\u001b[0m         \u001b[38;5;28;01mraise\u001b[39;00m \u001b[38;5;167;01mException\u001b[39;00m(\u001b[38;5;124m\"\u001b[39m\u001b[38;5;124mUnity process has exited - check Player.log for errors. Last action message: \u001b[39m\u001b[38;5;132;01m%s\u001b[39;00m\u001b[38;5;124m\"\u001b[39m \u001b[38;5;241m%\u001b[39m \u001b[38;5;28mself\u001b[39m\u001b[38;5;241m.\u001b[39m_last_action_message)\n",
      "\u001b[0;31mKeyboardInterrupt\u001b[0m: "
     ]
    }
   ],
   "source": [
    "MAX_SIZE = 2000\n",
    "for i in range(100):\n",
    "    print(i)\n",
    "    scene_data = mcs.load_scene_json_file(f'./ball_scenes/_{i+1:06}.json')\n",
    "    ball_id = scene_data['goal']['metadata']['target']['id']\n",
    "    s = controller.start_scene(scene_data)\n",
    "    b = [o for o in s.segmentation_colors if o['objectId']==ball_id][0]\n",
    "    ball_color = jnp.array((b['r'],b['g'],b['b']), dtype=jnp.uint8)\n",
    "    d, r, i_ = jax.jit(make_rgb_point_cloud_ball)(ball_color, jnp.asarray(s.object_mask_list[-1]), jnp.asarray(s.image_list[-1]), jnp.asarray(s.depth_map_list[-1]), jnp.array(s.camera_aspect_ratio), s.camera_field_of_view)\n",
    "    v_d, v_r, v_m = voxelize(d,r,i_,0.04)\n",
    "    for id in jnp.unique(v_m):\n",
    "        idxs = v_m == id\n",
    "        if idxs.sum()>MAX_SIZE:\n",
    "            continue\n",
    "        o_d, o_r = v_d[:,idxs], v_r[:,idxs]\n",
    "    print(jnp.unique(v_m))\n",
    "\n",
    "\n",
    "    "
   ]
  },
  {
   "cell_type": "code",
   "execution_count": 16,
   "id": "f2633491-af5c-437d-aea3-678e0b9f1219",
   "metadata": {},
   "outputs": [
    {
     "name": "stdout",
     "output_type": "stream",
     "text": [
      "5\n"
     ]
    },
    {
     "data": {
      "text/plain": [
       "(3, 157)"
      ]
     },
     "execution_count": 16,
     "metadata": {},
     "output_type": "execute_result"
    },
    {
     "data": {
      "image/png": "[encoded data removed]",
      "text/plain": [
       "<Figure size 640x480 with 1 Axes>"
      ]
     },
     "metadata": {},
     "output_type": "display_data"
    }
   ],
   "source": [
    "i=5\n",
    "print(i)\n",
    "scene_data = mcs.load_scene_json_file(f'./ball_scenes/_{i+1:06}.json')\n",
    "ball_id = scene_data['goal']['metadata']['target']['id']\n",
    "s = controller.start_scene(scene_data)\n",
    "b = [o for o in s.segmentation_colors if o['objectId']==ball_id][0]\n",
    "ball_color = jnp.array((b['r'],b['g'],b['b']), dtype=jnp.uint8)\n",
    "d, r, i_ = jax.jit(make_rgb_point_cloud_ball)(ball_color, jnp.asarray(s.object_mask_list[-1]), jnp.asarray(s.image_list[-1]), jnp.asarray(s.depth_map_list[-1]), jnp.array(s.camera_aspect_ratio), s.camera_field_of_view)\n",
    "v_d, v_r, v_m = voxelize(d,r,i_,0.04)\n",
    "for id in jnp.unique(v_m):\n",
    "    idxs = v_m == id\n",
    "    if idxs.sum()>MAX_SIZE:\n",
    "        continue\n",
    "    o_d, o_r = v_d[:,idxs], v_r[:,idxs]\n",
    "\n",
    "    \n",
    "idxs = v_m == 0\n",
    "o_d, o_r = v_d[:,idxs], v_r[:,idxs]\n",
    "plt.scatter(o_d[0],o_d[1],c=o_d[2],s=1)\n",
    "o_d.shape"
   ]
  },
  {
   "cell_type": "code",
   "execution_count": null,
   "id": "a58d6c0d-3d01-4a91-8489-f12ac8e9aeba",
   "metadata": {},
   "outputs": [],
   "source": [
    "_"
   ]
  }
 ],
 "metadata": {
  "kernelspec": {
   "display_name": "Python 3 (ipykernel)",
   "language": "python",
   "name": "python3"
  },
  "language_info": {
   "codemirror_mode": {
    "name": "ipython",
    "version": 3
   },
   "file_extension": ".py",
   "mimetype": "text/x-python",
   "name": "python",
   "nbconvert_exporter": "python",
   "pygments_lexer": "ipython3",
   "version": "3.8.13"
  }
 },
 "nbformat": 4,
 "nbformat_minor": 5
}
