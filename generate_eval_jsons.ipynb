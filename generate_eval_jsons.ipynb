{
 "cells": [
  {
   "cell_type": "code",
   "execution_count": 1,
   "metadata": {},
   "outputs": [],
   "source": [
    "with open('eval_tasks.txt') as f:\n",
    "    headers = f.readline().strip().split()\n",
    "    data = []\n",
    "    for line in f:\n",
    "        row = line.strip().split('\\t')\n",
    "        row_dict = {headers[i]: value for i, value in enumerate(row)}\n",
    "        data.append(row_dict)"
   ]
  },
  {
   "cell_type": "code",
   "execution_count": 18,
   "metadata": {},
   "outputs": [],
   "source": [
    "import os\n",
    "import subprocess\n",
    "import re\n",
    "import sys\n",
    "# add the subdirectory to the Python module search path\n",
    "sys.path.append(os.path.abspath('mcs-scene-generator'))\n",
    "\n",
    "ROOT_DIR = \"/home/aldo/mcs_ball_generation/\"\n",
    "\n",
    "def spawn_process(example_config, n, directory):\n",
    "    # cmd = f\"python /home/aldo/mcs_ball_generation/mcs-scene-generator/ile.py -c {example_config} -n {n} -p {directory}/scene_\"\n",
    "    \n",
    "    cmd = f\"python {ROOT_DIR}mcs-scene-generator/ile.py -c {example_config} -n {n} -p {ROOT_DIR}{directory}/scene_\"\n",
    "    print(cmd)\n",
    "    with open(os.path.join(directory, 'output.log'), 'w') as f:\n",
    "        subprocess.Popen([\"nohup\", cmd, \"&\"], stdout=f, stderr=f)\n",
    "\n",
    "    # \n",
    "    #     subprocess.Popen([\"nohup\", cmd, \"&\"], stdout=f, stderr=subprocess.STDOUT)\n",
    "\n",
    "def create_directories_and_spawn_processes(data):\n",
    "    for d in data:\n",
    "        # eval_num, task_name, mcs_core_domains, example_config = row.split(\"\\t\")\n",
    "        # task_name = re.sub(r'\\W+', '', .strip())\n",
    "        directory = f\"{d['eval_num']}/{d['task_name']}\"\n",
    "        directory = directory.replace(\" \", \"_\").lower() # remove spaces and convert to lowercase\n",
    "        directory = re.sub('[^0-9a-zA-Z_/]+', '', directory) # remove special characters\n",
    "        os.makedirs(ROOT_DIR + directory, exist_ok=True)\n",
    "        print(directory)\n",
    "        os.makedirs(directory, exist_ok=True)\n",
    "        spawn_process(d['example_config'], 10, directory)\n",
    "        break"
   ]
  },
  {
   "cell_type": "code",
   "execution_count": 19,
   "metadata": {},
   "outputs": [
    {
     "name": "stdout",
     "output_type": "stream",
     "text": [
      "/home/aldo/mcs_ball_generation/5/agent_identification_interactive/\n",
      "python /home/aldo/mcs_ball_generation/5/agent_identification_interactive/mcs-scene-generator/ile.py -c mcs-scene-generator/ile_configs/interactive_agent_identification.yaml -n 10 -p /home/aldo/mcs_ball_generation/5/agent_identification_interactive/scene_\n"
     ]
    }
   ],
   "source": [
    "create_directories_and_spawn_processes(data)"
   ]
  }
 ],
 "metadata": {
  "kernelspec": {
   "display_name": "cora",
   "language": "python",
   "name": "python3"
  },
  "language_info": {
   "codemirror_mode": {
    "name": "ipython",
    "version": 3
   },
   "file_extension": ".py",
   "mimetype": "text/x-python",
   "name": "python",
   "nbconvert_exporter": "python",
   "pygments_lexer": "ipython3",
   "version": "3.8.13"
  },
  "orig_nbformat": 4
 },
 "nbformat": 4,
 "nbformat_minor": 2
}
